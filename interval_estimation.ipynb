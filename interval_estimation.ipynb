{
 "cells": [
  {
   "cell_type": "markdown",
   "id": "8e6bf451",
   "metadata": {},
   "source": [
    "## interval_estimation"
   ]
  },
  {
   "cell_type": "code",
   "execution_count": 5,
   "id": "40183e42",
   "metadata": {},
   "outputs": [],
   "source": [
    "def interval_estimation(self, X_new=None, alpha=0.05, sigma=None):\n",
    "    if self.coefficients is None:\n",
    "        raise ValueError(\"Model must be fitted before estimating intervals.\")\n",
    "\n",
    "    n, p = self.X_train.shape  # p includes intercept\n",
    "    df = n - p\n",
    "    XtX_inv = np.linalg.inv(self.X_train.T @ self.X_train)\n",
    "    \n",
    "    # تقدير التباين\n",
    "    if sigma is None:\n",
    "        sigma_hat = np.sqrt(np.sum(self.residuals ** 2) / df)\n",
    "        crit_value = stats.t.ppf(1 - alpha / 2, df)\n",
    "    else:\n",
    "        sigma_hat = sigma\n",
    "        crit_value = stats.norm.ppf(1 - alpha / 2)\n",
    "    \n",
    "    # حساب الخطأ المعياري والهامش\n",
    "    std_errors = np.sqrt(np.diag(XtX_inv)) * sigma_hat\n",
    "    margins = crit_value * std_errors\n",
    "\n",
    "    # فترات الثقة للمعاملات\n",
    "    lower_bounds = self.coefficients - margins\n",
    "    upper_bounds = self.coefficients + margins\n",
    "    coef_names = ['Intercept'] + [f'X{i}' for i in range(1, p)]\n",
    "    coef_df = pd.DataFrame({\n",
    "        'Coefficient': coef_names,\n",
    "        'Estimate': self.coefficients,\n",
    "        'Std Error': std_errors,\n",
    "        f'{100*(1-alpha):.1f}% CI Lower': lower_bounds,\n",
    "        f'{100*(1-alpha):.1f}% CI Upper': upper_bounds\n",
    "    })\n",
    "\n",
    "    # فترات التنبؤ\n",
    "    pred_df = None\n",
    "    if X_new is not None:\n",
    "        X_new = np.atleast_2d(X_new)\n",
    "        if X_new.shape[1] == p - 1:\n",
    "            X_new = np.c_[np.ones((X_new.shape[0], 1)), X_new]\n",
    "        elif X_new.shape[1] != p:\n",
    "            raise ValueError(f\"Expected {p - 1} features, got {X_new.shape[1]}\")\n",
    "        \n",
    "        y_preds = X_new @ self.coefficients\n",
    "        se_preds = np.sqrt(np.sum(X_new @ XtX_inv * X_new, axis=1)) * sigma_hat\n",
    "        margin_preds = crit_value * se_preds\n",
    "        lower_preds = y_preds - margin_preds\n",
    "        upper_preds = y_preds + margin_preds\n",
    "\n",
    "        pred_df = pd.DataFrame({\n",
    "            'Prediction': y_preds,\n",
    "            f'{100*(1-alpha):.1f}% PI Lower': lower_preds,\n",
    "            f'{100*(1-alpha):.1f}% PI Upper': upper_preds\n",
    "        })\n",
    "\n",
    "    return coef_df, pred_df\n"
   ]
  }
 ],
 "metadata": {
  "kernelspec": {
   "display_name": "Python 3",
   "language": "python",
   "name": "python3"
  },
  "language_info": {
   "codemirror_mode": {
    "name": "ipython",
    "version": 3
   },
   "file_extension": ".py",
   "mimetype": "text/x-python",
   "name": "python",
   "nbconvert_exporter": "python",
   "pygments_lexer": "ipython3",
   "version": "3.11.9"
  }
 },
 "nbformat": 4,
 "nbformat_minor": 5
}
